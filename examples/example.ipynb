{
 "cells": [
  {
   "cell_type": "code",
   "execution_count": 1,
   "metadata": {},
   "outputs": [],
   "source": [
    "import sys\n",
    "sys.path.insert(0,'d:\\\\work\\\\jturtle')\n",
    "\n",
    "import jturtle as turtle"
   ]
  },
  {
   "cell_type": "code",
   "execution_count": 2,
   "metadata": {},
   "outputs": [
    {
     "name": "stdout",
     "output_type": "stream",
     "text": [
      "Moving 0.00,0.00 -> 0.00,100.00 (D)\n",
      "Moving 0.00,100.00 -> 86.60,50.00 (D)\n",
      "Moving 86.60,50.00 -> 0.00,0.00 (D)\n"
     ]
    },
    {
     "data": {
      "image/png": "[encoded data removed]",
      "text/plain": [
       "<Figure size 432x288 with 1 Axes>"
      ]
     },
     "metadata": {
      "needs_background": "light"
     },
     "output_type": "display_data"
    }
   ],
   "source": [
    "turtle.forward(100)\n",
    "turtle.right(120)\n",
    "turtle.forward(100)\n",
    "turtle.right(120)\n",
    "turtle.forward(100)\n",
    "turtle.right(120)\n",
    "turtle.done()"
   ]
  },
  {
   "cell_type": "code",
   "execution_count": 3,
   "metadata": {},
   "outputs": [
    {
     "name": "stdout",
     "output_type": "stream",
     "text": [
      "Moving 0.00,0.00 -> 0.00,100.00 (D)\n",
      "Moving 0.00,100.00 -> 100.00,100.00 (D)\n",
      "Moving 100.00,100.00 -> 100.00,0.00 (D)\n",
      "Moving 100.00,0.00 -> 0.00,-0.00 (D)\n"
     ]
    },
    {
     "data": {
      "image/png": "[encoded data removed]",
      "text/plain": [
       "<Figure size 432x288 with 4 Axes>"
      ]
     },
     "metadata": {
      "needs_background": "light"
     },
     "output_type": "display_data"
    }
   ],
   "source": [
    "turtle.forward(100)\n",
    "turtle.right(90)\n",
    "turtle.forward(100)\n",
    "turtle.right(90)\n",
    "turtle.forward(100)\n",
    "turtle.right(90)\n",
    "turtle.forward(100)\n",
    "turtle.right(90)\n",
    "turtle.done(True)"
   ]
  },
  {
   "cell_type": "code",
   "execution_count": 4,
   "metadata": {},
   "outputs": [
    {
     "name": "stdout",
     "output_type": "stream",
     "text": [
      "Moving 0.00,0.00 -> 0.00,10.00 (D)\n",
      "Moving 0.00,10.00 -> 10.00,10.00 (D)\n",
      "Moving 10.00,10.00 -> 10.00,0.00 (D)\n",
      "Moving 10.00,0.00 -> 0.00,-0.00 (D)\n",
      "Moving 0.00,-0.00 -> -0.00,10.00 (D)\n",
      "Moving -0.00,10.00 -> 10.00,10.00 (D)\n",
      "Moving 10.00,10.00 -> 10.00,0.00 (D)\n",
      "Moving 10.00,0.00 -> 0.00,-0.00 (D)\n"
     ]
    },
    {
     "data": {
      "image/png": "[encoded data removed]",
      "text/plain": [
       "<Figure size 432x288 with 8 Axes>"
      ]
     },
     "metadata": {
      "needs_background": "light"
     },
     "output_type": "display_data"
    }
   ],
   "source": [
    "for _ in range(8):\n",
    "    turtle.forward(10)\n",
    "    turtle.right(90)\n",
    "turtle.done(True)"
   ]
  },
  {
   "cell_type": "code",
   "execution_count": 5,
   "metadata": {},
   "outputs": [
    {
     "name": "stdout",
     "output_type": "stream",
     "text": [
      "Moving 0.00,0.00 -> 0.00,10.00 (D)\n",
      "Moving 0.00,10.00 -> 10.00,10.00 (D)\n",
      "Moving 10.00,10.00 -> 10.00,0.00 (D)\n",
      "Moving 10.00,0.00 -> 0.00,-0.00 (D)\n",
      "Moving 0.00,-0.00 -> -0.00,10.00 (D)\n",
      "Moving -0.00,10.00 -> 5.00,18.66 (D)\n",
      "Moving 5.00,18.66 -> 10.00,10.00 (D)\n",
      "Moving 10.00,10.00 -> 10.00,3.33 (U)\n",
      "Moving 10.00,3.33 -> 6.67,3.33 (U)\n",
      "Moving 6.67,3.33 -> 3.33,3.33 (D)\n",
      "Moving 3.33,3.33 -> 3.33,6.67 (D)\n",
      "Moving 3.33,6.67 -> 6.67,6.67 (D)\n",
      "Moving 6.67,6.67 -> 6.67,3.33 (D)\n",
      "Moving 6.67,3.33 -> 3.33,3.33 (U)\n",
      "Moving 3.33,3.33 -> 3.33,-0.00 (U)\n",
      "Moving 3.33,-0.00 -> 3.33,10.00 (U)\n",
      "Moving 3.33,10.00 -> 13.33,10.00 (U)\n",
      "Moving 13.33,10.00 -> 13.33,-0.00 (U)\n",
      "Moving 13.33,-0.00 -> 3.33,-0.00 (U)\n",
      "Moving 3.33,-0.00 -> 3.33,10.00 (U)\n",
      "Moving 3.33,10.00 -> 8.33,18.66 (U)\n",
      "Moving 8.33,18.66 -> 13.33,10.00 (U)\n",
      "Moving 13.33,10.00 -> 13.33,3.33 (U)\n",
      "Moving 13.33,3.33 -> 10.00,3.33 (U)\n",
      "Moving 10.00,3.33 -> 6.67,3.33 (D)\n",
      "Moving 6.67,3.33 -> 6.67,6.67 (D)\n",
      "Moving 6.67,6.67 -> 10.00,6.67 (D)\n",
      "Moving 10.00,6.67 -> 10.00,3.33 (D)\n",
      "Moving 10.00,3.33 -> 6.67,3.33 (U)\n",
      "Moving 6.67,3.33 -> 6.67,-0.00 (U)\n",
      "Moving 6.67,-0.00 -> 6.67,10.00 (U)\n",
      "Moving 6.67,10.00 -> 16.67,10.00 (U)\n",
      "Moving 16.67,10.00 -> 16.67,0.00 (U)\n",
      "Moving 16.67,0.00 -> 6.67,-0.00 (U)\n",
      "Moving 6.67,-0.00 -> 6.67,10.00 (U)\n",
      "Moving 6.67,10.00 -> 11.67,18.66 (U)\n",
      "Moving 11.67,18.66 -> 16.67,10.00 (U)\n",
      "Moving 16.67,10.00 -> 16.67,3.33 (U)\n",
      "Moving 16.67,3.33 -> 13.33,3.33 (U)\n",
      "Moving 13.33,3.33 -> 10.00,3.33 (D)\n",
      "Moving 10.00,3.33 -> 10.00,6.67 (D)\n",
      "Moving 10.00,6.67 -> 13.33,6.67 (D)\n",
      "Moving 13.33,6.67 -> 13.33,3.33 (D)\n",
      "Moving 13.33,3.33 -> 10.00,3.33 (U)\n",
      "Moving 10.00,3.33 -> 10.00,0.00 (U)\n",
      "('L', 0, 6.123233995736766e-16, 0, 10.0, 1, 'black')\n",
      "('L', 6.123233995736766e-16, 10.0, 10.0, 10.0, 1, 'black')\n",
      "('L', 10.0, 10.0, 10.0, 0.0, 1, 'black')\n",
      "('L', 10.0, 0.0, 0.0, -1.2246467991473533e-15, 1, 'black')\n",
      "('L', 0.0, -1.8369701987210296e-15, -1.2246467991473533e-15, 9.999999999999998, 1, 'black')\n",
      "('L', -1.8369701987210296e-15, 4.999999999999999, 9.999999999999998, 18.660254037844382, 1, 'black')\n",
      "('L', 4.999999999999999, 9.999999999999996, 18.660254037844382, 9.999999999999993, 1, 'black')\n",
      "('L', 6.666666666666664, 3.333333333333331, 3.3333333333333246, 3.3333333333333233, 1, 'black')\n",
      "('L', 3.333333333333331, 3.3333333333333295, 3.3333333333333233, 6.666666666666657, 1, 'black')\n",
      "('L', 3.3333333333333295, 6.6666666666666625, 6.666666666666657, 6.666666666666659, 1, 'black')\n",
      "('L', 6.6666666666666625, 6.666666666666664, 6.666666666666659, 3.3333333333333255, 1, 'black')\n",
      "('L', 10.000000000000027, 6.666666666666693, 3.3333333333333286, 3.333333333333326, 1, 'black')\n",
      "('L', 6.666666666666693, 6.666666666666695, 3.333333333333326, 6.666666666666659, 1, 'black')\n",
      "('L', 6.666666666666695, 10.000000000000028, 6.666666666666659, 6.6666666666666625, 1, 'black')\n",
      "('L', 10.000000000000028, 10.000000000000027, 6.6666666666666625, 3.333333333333329, 1, 'black')\n",
      "('L', 13.333333333333384, 10.00000000000005, 3.333333333333346, 3.3333333333333535, 1, 'black')\n",
      "('L', 10.00000000000005, 10.000000000000039, 3.3333333333333535, 6.666666666666687, 1, 'black')\n",
      "('L', 10.000000000000039, 13.333333333333373, 6.666666666666687, 6.666666666666693, 1, 'black')\n",
      "('L', 13.333333333333373, 13.333333333333373, 6.666666666666693, 3.3333333333333592, 1, 'black')\n"
     ]
    },
    {
     "data": {
      "image/png": "[encoded data removed]",
      "text/plain": [
       "<Figure size 432x288 with 1 Axes>"
      ]
     },
     "metadata": {
      "needs_background": "light"
     },
     "output_type": "display_data"
    }
   ],
   "source": [
    "def square(x):\n",
    "    for t in range(4):\n",
    "        turtle.forward(x)\n",
    "        turtle.right(90)\n",
    "        \n",
    "def house(size):\n",
    "    square(size)\n",
    "    turtle.forward(size)\n",
    "    turtle.right(30)\n",
    "    turtle.forward(size)\n",
    "    turtle.right(120)\n",
    "    turtle.forward(size)\n",
    "    turtle.right(30)\n",
    "\n",
    "    turtle.penup()\n",
    "    turtle.forward(2*size/3)\n",
    "    turtle.right(90)\n",
    "    turtle.forward(size/3)\n",
    "    turtle.pendown()\n",
    "\n",
    "    square(size/3)\n",
    "    turtle.penup()\n",
    "    turtle.forward(size/3)\n",
    "    turtle.left(90)\n",
    "    turtle.forward(size/3)\n",
    "    turtle.left(180)\n",
    "    \n",
    "for _ in range(3):\n",
    "    house(10)\n",
    "print(\"\\n\".join(map(str,turtle.ensureTurtle().commands)))\n",
    "turtle.done()"
   ]
  },
  {
   "cell_type": "code",
   "execution_count": null,
   "metadata": {},
   "outputs": [],
   "source": []
  },
  {
   "cell_type": "code",
   "execution_count": null,
   "metadata": {},
   "outputs": [],
   "source": []
  }
 ],
 "metadata": {
  "kernelspec": {
   "display_name": "Python 3",
   "language": "python",
   "name": "python3"
  },
  "language_info": {
   "codemirror_mode": {
    "name": "ipython",
    "version": 3
   },
   "file_extension": ".py",
   "mimetype": "text/x-python",
   "name": "python",
   "nbconvert_exporter": "python",
   "pygments_lexer": "ipython3",
   "version": "3.7.4"
  }
 },
 "nbformat": 4,
 "nbformat_minor": 2
}
